{
 "cells": [
  {
   "cell_type": "code",
   "execution_count": 76,
   "metadata": {},
   "outputs": [],
   "source": [
    "#! pip install xlrd >= 2.0.1 --q\n",
    "#! pip install mysql-connector-python --q\n"
   ]
  },
  {
   "cell_type": "code",
   "execution_count": 77,
   "metadata": {},
   "outputs": [],
   "source": [
    "import requests\n",
    "import pandas as pd \n",
    "import json \n",
    "import mysql.connector"
   ]
  },
  {
   "cell_type": "code",
   "execution_count": 84,
   "metadata": {},
   "outputs": [],
   "source": [
    "list_cities=pd.read_excel('list_of_cities_and_towns_in_india-834j.xls',sheet_name=0)\n",
    "list_cities.columns=['Name_of_City','State','Cit_Type','Population_2011','Population_class']\n",
    "list_cities['Name_of_City']=list_cities['Name_of_City'].astype(str)\n",
    "list_cities['State']=list_cities['State'].astype(str)\n",
    "list_cities['Cit_Type']=list_cities['Cit_Type'].astype(str)\n",
    "list_cities['Population_2011']=list_cities['Population_2011'].astype(str)\n",
    "list_cities['Population_class']=list_cities['Population_class'].astype(str)\n",
    "list_cities['Prim_Key'] = ['CIT' + str(i) for i in range(1, len(list_cities['Name_of_City']) + 1)]\n",
    "list_cities=list_cities.fillna(\"\")"
   ]
  },
  {
   "cell_type": "code",
   "execution_count": 79,
   "metadata": {},
   "outputs": [],
   "source": [
    "db_config = {\n",
    "    'host': 'localhost',\n",
    "    'user': 'root',\n",
    "    'password': 'SARKAR@12345',\n",
    "    'database': 'pg_project'\n",
    "}"
   ]
  },
  {
   "cell_type": "code",
   "execution_count": 80,
   "metadata": {},
   "outputs": [],
   "source": [
    "# Establish a connection to the MySQL server\n",
    "connection = mysql.connector.connect(**db_config)\n",
    "\n",
    "# Create a cursor object to interact with the database\n",
    "cursor = connection.cursor()"
   ]
  },
  {
   "cell_type": "code",
   "execution_count": 81,
   "metadata": {},
   "outputs": [],
   "source": [
    "# Check if the table exists and drop it if it does\n",
    "check_table_query = f\"DROP TABLE IF EXISTS citi_master\"\n",
    "cursor.execute(check_table_query)"
   ]
  },
  {
   "cell_type": "code",
   "execution_count": 82,
   "metadata": {},
   "outputs": [],
   "source": [
    "# Define the SQL statement to create a new table\n",
    "create_table_query = '''\n",
    "CREATE TABLE citi_master (\n",
    "    Prim_Key VARCHAR(50) PRIMARY KEY,\n",
    "    Name_of_City VARCHAR(50),\n",
    "    State  VARCHAR(100),\n",
    "    Cit_Type   VARCHAR(100),\n",
    "    Population_2011   VARCHAR(100),\n",
    "    Population_class  VARCHAR(100)\n",
    ");\n",
    "'''\n",
    "cursor.execute(create_table_query)"
   ]
  },
  {
   "cell_type": "code",
   "execution_count": 89,
   "metadata": {},
   "outputs": [],
   "source": [
    "list_cities=list_cities[[\"Prim_Key\",\"Name_of_City\",\"State\",\"Cit_Type\",\"Population_2011\",\"Population_class\"]]"
   ]
  },
  {
   "cell_type": "code",
   "execution_count": 91,
   "metadata": {},
   "outputs": [
    {
     "ename": "InterfaceError",
     "evalue": "Failed executing the operation; Not all parameters were used in the SQL statement",
     "output_type": "error",
     "traceback": [
      "\u001b[1;31m---------------------------------------------------------------------------\u001b[0m",
      "\u001b[1;31mInterfaceError\u001b[0m                            Traceback (most recent call last)",
      "\u001b[1;32mc:\\Users\\Lenovo\\OneDrive\\Desktop\\pg project\\pg product.ipynb Cell 9\u001b[0m line \u001b[0;36m8\n\u001b[0;32m      <a href='vscode-notebook-cell:/c%3A/Users/Lenovo/OneDrive/Desktop/pg%20project/pg%20product.ipynb#X35sZmlsZQ%3D%3D?line=4'>5</a>\u001b[0m insert_query \u001b[39m=\u001b[39m \u001b[39mf\u001b[39m\u001b[39m'\u001b[39m\u001b[39mINSERT INTO citi_master (Prim_Key,Name_of_City,State,Cit_Type,Population_2011,Population_class) VALUES (%s, %s, %s, %s, %s)\u001b[39m\u001b[39m'\u001b[39m\n\u001b[0;32m      <a href='vscode-notebook-cell:/c%3A/Users/Lenovo/OneDrive/Desktop/pg%20project/pg%20product.ipynb#X35sZmlsZQ%3D%3D?line=6'>7</a>\u001b[0m \u001b[39m# Execute the SQL statement to insert data\u001b[39;00m\n\u001b[1;32m----> <a href='vscode-notebook-cell:/c%3A/Users/Lenovo/OneDrive/Desktop/pg%20project/pg%20product.ipynb#X35sZmlsZQ%3D%3D?line=7'>8</a>\u001b[0m cursor\u001b[39m.\u001b[39;49mexecutemany(insert_query, list_cities1)\n\u001b[0;32m      <a href='vscode-notebook-cell:/c%3A/Users/Lenovo/OneDrive/Desktop/pg%20project/pg%20product.ipynb#X35sZmlsZQ%3D%3D?line=8'>9</a>\u001b[0m \u001b[39mprint\u001b[39m(\u001b[39mf\u001b[39m\u001b[39m\"\u001b[39m\u001b[39mData inserted into citi_master.\u001b[39m\u001b[39m\"\u001b[39m)\n\u001b[0;32m     <a href='vscode-notebook-cell:/c%3A/Users/Lenovo/OneDrive/Desktop/pg%20project/pg%20product.ipynb#X35sZmlsZQ%3D%3D?line=10'>11</a>\u001b[0m \u001b[39m# Commit the changes\u001b[39;00m\n",
      "File \u001b[1;32mc:\\Users\\Lenovo\\anaconda3\\envs\\Pgproject\\lib\\site-packages\\mysql\\connector\\cursor_cext.py:452\u001b[0m, in \u001b[0;36mCMySQLCursor.executemany\u001b[1;34m(self, operation, seq_params)\u001b[0m\n\u001b[0;32m    450\u001b[0m     \u001b[39mself\u001b[39m\u001b[39m.\u001b[39m_rowcount \u001b[39m=\u001b[39m \u001b[39m0\u001b[39m\n\u001b[0;32m    451\u001b[0m     \u001b[39mreturn\u001b[39;00m \u001b[39mNone\u001b[39;00m\n\u001b[1;32m--> 452\u001b[0m stmt \u001b[39m=\u001b[39m \u001b[39mself\u001b[39;49m\u001b[39m.\u001b[39;49m_batch_insert(operation, seq_params)\n\u001b[0;32m    453\u001b[0m \u001b[39mif\u001b[39;00m stmt \u001b[39mis\u001b[39;00m \u001b[39mnot\u001b[39;00m \u001b[39mNone\u001b[39;00m:\n\u001b[0;32m    454\u001b[0m     \u001b[39mself\u001b[39m\u001b[39m.\u001b[39m_executed \u001b[39m=\u001b[39m stmt\n",
      "File \u001b[1;32mc:\\Users\\Lenovo\\anaconda3\\envs\\Pgproject\\lib\\site-packages\\mysql\\connector\\cursor_cext.py:406\u001b[0m, in \u001b[0;36mCMySQLCursor._batch_insert\u001b[1;34m(self, operation, seq_params)\u001b[0m\n\u001b[0;32m    404\u001b[0m     \u001b[39mraise\u001b[39;00m ProgrammingError(\u001b[39mstr\u001b[39m(err)) \u001b[39mfrom\u001b[39;00m \u001b[39merr\u001b[39;00m\n\u001b[0;32m    405\u001b[0m \u001b[39mexcept\u001b[39;00m \u001b[39mException\u001b[39;00m \u001b[39mas\u001b[39;00m err:\n\u001b[1;32m--> 406\u001b[0m     \u001b[39mraise\u001b[39;00m InterfaceError(\u001b[39mf\u001b[39m\u001b[39m\"\u001b[39m\u001b[39mFailed executing the operation; \u001b[39m\u001b[39m{\u001b[39;00merr\u001b[39m}\u001b[39;00m\u001b[39m\"\u001b[39m) \u001b[39mfrom\u001b[39;00m \u001b[39mNone\u001b[39;00m\n",
      "\u001b[1;31mInterfaceError\u001b[0m: Failed executing the operation; Not all parameters were used in the SQL statement"
     ]
    }
   ],
   "source": [
    "# Convert the DataFrame to a list of tuples\n",
    "list_cities1 = [tuple(row) for row in list_cities.to_numpy()]\n",
    "\n",
    "# Define the SQL statement to insert data\n",
    "insert_query = f'INSERT INTO citi_master (Prim_Key,Name_of_City,State,Cit_Type,Population_2011,Population_class) VALUES (%s, %s, %s, %s, %s)'\n",
    "\n",
    "# Execute the SQL statement to insert data\n",
    "cursor.executemany(insert_query, list_cities1)\n",
    "print(f\"Data inserted into citi_master.\")\n",
    "\n",
    "# Commit the changes\n",
    "connection.commit()"
   ]
  },
  {
   "cell_type": "code",
   "execution_count": 7,
   "metadata": {},
   "outputs": [],
   "source": [
    "api_key = \"16bf3a5e874140bcc33de0d8ca72ef0de8964b4a\"\n",
    "city_name = \"india\"\n",
    "url = f\"https://api.waqi.info/feed/{city_name}/?token={api_key}\"\n"
   ]
  },
  {
   "cell_type": "code",
   "execution_count": 8,
   "metadata": {},
   "outputs": [
    {
     "name": "stdout",
     "output_type": "stream",
     "text": [
      "{'status': 'ok', 'data': {'aqi': 151, 'idx': 12450, 'attributions': [{'url': 'http://cpcb.nic.in/', 'name': 'CPCB - India Central Pollution Control Board', 'logo': 'India-CPCB.png'}, {'url': 'https://waqi.info/', 'name': 'World Air Quality Index Project'}], 'city': {'geo': [22.629801, 88.352017], 'name': 'Belur Math, Howrah, India', 'url': 'https://aqicn.org/city/india/howrah/belur-math', 'location': ''}, 'dominentpol': 'pm25', 'iaqi': {'co': {'v': 5.5}, 'dew': {'v': 23}, 'h': {'v': 98.5875}, 'no2': {'v': 5.5}, 'o3': {'v': 7.7}, 'p': {'v': 1010}, 'pm10': {'v': 88}, 'pm25': {'v': 151}, 'so2': {'v': 2.7}, 't': {'v': 29}, 'w': {'v': 0.15250000000000002}}, 'time': {'s': '2023-10-15 21:00:00', 'tz': '+05:30', 'v': 1697403600, 'iso': '2023-10-15T21:00:00+05:30'}, 'forecast': {'daily': {'o3': [{'avg': 13, 'day': '2023-10-13', 'max': 73, 'min': 1}, {'avg': 10, 'day': '2023-10-14', 'max': 45, 'min': 1}, {'avg': 10, 'day': '2023-10-15', 'max': 52, 'min': 1}, {'avg': 11, 'day': '2023-10-16', 'max': 59, 'min': 1}, {'avg': 13, 'day': '2023-10-17', 'max': 66, 'min': 1}, {'avg': 9, 'day': '2023-10-18', 'max': 57, 'min': 1}, {'avg': 11, 'day': '2023-10-19', 'max': 52, 'min': 1}, {'avg': 1, 'day': '2023-10-20', 'max': 1, 'min': 1}], 'pm10': [{'avg': 123, 'day': '2023-10-13', 'max': 123, 'min': 123}, {'avg': 123, 'day': '2023-10-14', 'max': 123, 'min': 123}, {'avg': 106, 'day': '2023-10-15', 'max': 123, 'min': 73}, {'avg': 119, 'day': '2023-10-16', 'max': 123, 'min': 73}, {'avg': 123, 'day': '2023-10-17', 'max': 123, 'min': 123}, {'avg': 123, 'day': '2023-10-18', 'max': 123, 'min': 123}, {'avg': 123, 'day': '2023-10-19', 'max': 123, 'min': 123}, {'avg': 106, 'day': '2023-10-20', 'max': 123, 'min': 73}, {'avg': 123, 'day': '2023-10-21', 'max': 123, 'min': 73}], 'pm25': [{'avg': 214, 'day': '2023-10-13', 'max': 238, 'min': 174}, {'avg': 219, 'day': '2023-10-14', 'max': 252, 'min': 174}, {'avg': 202, 'day': '2023-10-15', 'max': 238, 'min': 159}, {'avg': 202, 'day': '2023-10-16', 'max': 252, 'min': 174}, {'avg': 220, 'day': '2023-10-17', 'max': 252, 'min': 174}, {'avg': 221, 'day': '2023-10-18', 'max': 252, 'min': 174}, {'avg': 215, 'day': '2023-10-19', 'max': 252, 'min': 174}, {'avg': 208, 'day': '2023-10-20', 'max': 252, 'min': 159}, {'avg': 180, 'day': '2023-10-21', 'max': 186, 'min': 159}]}}, 'debug': {'sync': '2023-10-16T01:26:22+09:00'}}}\n"
     ]
    }
   ],
   "source": [
    "\n",
    "\n",
    "response = requests.get(url)\n",
    "json_data= response.json()\n",
    "json_data\n",
    "print(json_data)"
   ]
  },
  {
   "cell_type": "code",
   "execution_count": 9,
   "metadata": {},
   "outputs": [
    {
     "data": {
      "text/html": [
       "<div>\n",
       "<style scoped>\n",
       "    .dataframe tbody tr th:only-of-type {\n",
       "        vertical-align: middle;\n",
       "    }\n",
       "\n",
       "    .dataframe tbody tr th {\n",
       "        vertical-align: top;\n",
       "    }\n",
       "\n",
       "    .dataframe thead th {\n",
       "        text-align: right;\n",
       "    }\n",
       "</style>\n",
       "<table border=\"1\" class=\"dataframe\">\n",
       "  <thead>\n",
       "    <tr style=\"text-align: right;\">\n",
       "      <th></th>\n",
       "      <th>status</th>\n",
       "      <th>data.aqi</th>\n",
       "      <th>data.idx</th>\n",
       "      <th>data.attributions</th>\n",
       "      <th>data.city.geo</th>\n",
       "      <th>data.city.name</th>\n",
       "      <th>data.city.url</th>\n",
       "      <th>data.city.location</th>\n",
       "      <th>data.dominentpol</th>\n",
       "      <th>data.iaqi.co.v</th>\n",
       "      <th>...</th>\n",
       "      <th>data.iaqi.t.v</th>\n",
       "      <th>data.iaqi.w.v</th>\n",
       "      <th>data.time.s</th>\n",
       "      <th>data.time.tz</th>\n",
       "      <th>data.time.v</th>\n",
       "      <th>data.time.iso</th>\n",
       "      <th>data.forecast.daily.o3</th>\n",
       "      <th>data.forecast.daily.pm10</th>\n",
       "      <th>data.forecast.daily.pm25</th>\n",
       "      <th>data.debug.sync</th>\n",
       "    </tr>\n",
       "  </thead>\n",
       "  <tbody>\n",
       "    <tr>\n",
       "      <th>0</th>\n",
       "      <td>ok</td>\n",
       "      <td>151</td>\n",
       "      <td>12450</td>\n",
       "      <td>[{'url': 'http://cpcb.nic.in/', 'name': 'CPCB ...</td>\n",
       "      <td>[22.629801, 88.352017]</td>\n",
       "      <td>Belur Math, Howrah, India</td>\n",
       "      <td>https://aqicn.org/city/india/howrah/belur-math</td>\n",
       "      <td></td>\n",
       "      <td>pm25</td>\n",
       "      <td>5.5</td>\n",
       "      <td>...</td>\n",
       "      <td>29</td>\n",
       "      <td>0.1525</td>\n",
       "      <td>2023-10-15 21:00:00</td>\n",
       "      <td>+05:30</td>\n",
       "      <td>1697403600</td>\n",
       "      <td>2023-10-15T21:00:00+05:30</td>\n",
       "      <td>[{'avg': 13, 'day': '2023-10-13', 'max': 73, '...</td>\n",
       "      <td>[{'avg': 123, 'day': '2023-10-13', 'max': 123,...</td>\n",
       "      <td>[{'avg': 214, 'day': '2023-10-13', 'max': 238,...</td>\n",
       "      <td>2023-10-16T01:26:22+09:00</td>\n",
       "    </tr>\n",
       "  </tbody>\n",
       "</table>\n",
       "<p>1 rows × 28 columns</p>\n",
       "</div>"
      ],
      "text/plain": [
       "  status  data.aqi  data.idx  \\\n",
       "0     ok       151     12450   \n",
       "\n",
       "                                   data.attributions           data.city.geo  \\\n",
       "0  [{'url': 'http://cpcb.nic.in/', 'name': 'CPCB ...  [22.629801, 88.352017]   \n",
       "\n",
       "              data.city.name                                   data.city.url  \\\n",
       "0  Belur Math, Howrah, India  https://aqicn.org/city/india/howrah/belur-math   \n",
       "\n",
       "  data.city.location data.dominentpol  data.iaqi.co.v  ...  data.iaqi.t.v  \\\n",
       "0                                pm25             5.5  ...             29   \n",
       "\n",
       "   data.iaqi.w.v          data.time.s  data.time.tz  data.time.v  \\\n",
       "0         0.1525  2023-10-15 21:00:00        +05:30   1697403600   \n",
       "\n",
       "               data.time.iso  \\\n",
       "0  2023-10-15T21:00:00+05:30   \n",
       "\n",
       "                              data.forecast.daily.o3  \\\n",
       "0  [{'avg': 13, 'day': '2023-10-13', 'max': 73, '...   \n",
       "\n",
       "                            data.forecast.daily.pm10  \\\n",
       "0  [{'avg': 123, 'day': '2023-10-13', 'max': 123,...   \n",
       "\n",
       "                            data.forecast.daily.pm25  \\\n",
       "0  [{'avg': 214, 'day': '2023-10-13', 'max': 238,...   \n",
       "\n",
       "             data.debug.sync  \n",
       "0  2023-10-16T01:26:22+09:00  \n",
       "\n",
       "[1 rows x 28 columns]"
      ]
     },
     "execution_count": 9,
     "metadata": {},
     "output_type": "execute_result"
    }
   ],
   "source": [
    "pd.json_normalize(json_data)\n"
   ]
  },
  {
   "cell_type": "code",
   "execution_count": 11,
   "metadata": {},
   "outputs": [
    {
     "name": "stdout",
     "output_type": "stream",
     "text": [
      " Volume in drive C has no label.\n",
      " Volume Serial Number is 4E9F-5614\n",
      "\n",
      " Directory of c:\\Users\\Lenovo\\OneDrive\\Desktop\\pg project\n",
      "\n",
      "15-10-2023  22:05    <DIR>          .\n",
      "12-10-2023  23:18    <DIR>          ..\n",
      "12-10-2023  22:57                36 api key.txt\n",
      "12-09-2023  20:36    <DIR>          chat chat bot files final\n",
      "30-07-2023  23:49    <DIR>          credit card dispute\n",
      "09-10-2023  14:45    <DIR>          Data Engineering\n",
      "11-07-2023  21:49    <DIR>          flight tickets\n",
      "15-10-2023  22:04           163,328 list_of_cities_and_towns_in_india-834j.xls\n",
      "12-10-2023  22:26               234 pg broduct.ipynb\n",
      "15-10-2023  21:47             6,711 pg product.ipynb\n",
      "30-07-2023  23:51    <DIR>          rigvee send\n",
      "30-07-2023  23:49    <DIR>          scan\n",
      "30-07-2023  23:49    <DIR>          send\n",
      "27-02-2023  13:56    <DIR>          Statistics\n",
      "30-07-2023  23:51    <DIR>          trials sql\n",
      "30-07-2023  23:51    <DIR>          website\n",
      "               4 File(s)        170,309 bytes\n",
      "              12 Dir(s)  569,293,053,952 bytes free\n"
     ]
    }
   ],
   "source": [
    "ls"
   ]
  },
  {
   "cell_type": "code",
   "execution_count": null,
   "metadata": {},
   "outputs": [],
   "source": []
  }
 ],
 "metadata": {
  "kernelspec": {
   "display_name": "Pgproject",
   "language": "python",
   "name": "python3"
  },
  "language_info": {
   "codemirror_mode": {
    "name": "ipython",
    "version": 3
   },
   "file_extension": ".py",
   "mimetype": "text/x-python",
   "name": "python",
   "nbconvert_exporter": "python",
   "pygments_lexer": "ipython3",
   "version": "3.9.18"
  }
 },
 "nbformat": 4,
 "nbformat_minor": 2
}
